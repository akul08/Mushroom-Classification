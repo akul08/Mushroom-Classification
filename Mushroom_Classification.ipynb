{
 "cells": [
  {
   "cell_type": "code",
   "execution_count": 1,
   "metadata": {},
   "outputs": [
    {
     "name": "stderr",
     "output_type": "stream",
     "text": [
      "Using TensorFlow backend.\n"
     ]
    }
   ],
   "source": [
    "import numpy as np\n",
    "from sklearn.ensemble import RandomForestClassifier as RFC\n",
    "from sklearn.tree import DecisionTreeClassifier as DTC\n",
    "from matplotlib import pyplot as plt\n",
    "%matplotlib inline\n",
    "import datetime\n",
    "import pandas as pd\n",
    "from sklearn import preprocessing as pp\n",
    "from sklearn.linear_model import LogisticRegression as LR\n",
    "from sklearn.neighbors import KNeighborsClassifier as KNN\n",
    "\n",
    "import keras\n",
    "from keras.models import Sequential\n",
    "from keras.layers import Dense, Activation\n",
    "from keras.utils import np_utils"
   ]
  },
  {
   "cell_type": "code",
   "execution_count": 2,
   "metadata": {},
   "outputs": [
    {
     "name": "stdout",
     "output_type": "stream",
     "text": [
      "(8124, 23)\n"
     ]
    }
   ],
   "source": [
    "ds = pd.read_csv('mushrooms.csv')\n",
    "dat = ds.values\n",
    "\n",
    "print(dat.shape)\n",
    "\n",
    "headers = list(ds.columns.values) #store features of mushrooms"
   ]
  },
  {
   "cell_type": "code",
   "execution_count": 3,
   "metadata": {},
   "outputs": [
    {
     "name": "stdout",
     "output_type": "stream",
     "text": [
      "(8124, 23)\n"
     ]
    }
   ],
   "source": [
    "#Data Preprocessing\n",
    "l = pp.LabelEncoder()\n",
    "l.fit(dat[:, 0])\n",
    "dataa = l.transform(dat[:, 0])\n",
    "\n",
    "for ix in range(1, dat.shape[1]):\n",
    "    le = pp.LabelEncoder()\n",
    "    le.fit(dat[:, ix])\n",
    "    y = le.transform(dat[:, ix])\n",
    "    dataa = np.vstack((dataa , y))\n",
    "    \n",
    "data = dataa.T\n",
    "\n",
    "cate = data[:, 0] #One hot encoding for NN implementation\n",
    "\n",
    "print(data.shape)"
   ]
  },
  {
   "cell_type": "code",
   "execution_count": 4,
   "metadata": {},
   "outputs": [
    {
     "name": "stdout",
     "output_type": "stream",
     "text": [
      "(6499, 22) (6499,)\n",
      "(1625, 22) (1625,)\n"
     ]
    }
   ],
   "source": [
    "split = int(0.80 * data.shape[0])\n",
    "\n",
    "x_train = data[:split , 1:]\n",
    "y_train = data[:split, 0]\n",
    "\n",
    "x_test = data[split: , 1:]\n",
    "y_test = data[split: , 0]\n",
    "\n",
    "print(x_train.shape, y_train.shape)\n",
    "print(x_test.shape, y_test.shape)"
   ]
  },
  {
   "cell_type": "markdown",
   "metadata": {},
   "source": [
    "<h3> Decision Tree Implementation </h3>"
   ]
  },
  {
   "cell_type": "code",
   "execution_count": 5,
   "metadata": {
    "scrolled": true
   },
   "outputs": [
    {
     "name": "stdout",
     "output_type": "stream",
     "text": [
      "Accurcy :  96.0615384615\n",
      "Accurcy :  96.5538461538\n",
      "Accurcy :  99.5076923077\n",
      "Accurcy :  99.0153846154\n",
      "Accurcy :  99.0153846154\n",
      "Accurcy :  96.5538461538\n",
      "Accurcy :  96.0615384615\n",
      "Accurcy :  96.0615384615\n",
      "Accurcy :  96.5538461538\n",
      "Accurcy :  99.5076923077\n"
     ]
    }
   ],
   "source": [
    "acc = []\n",
    "ans = []\n",
    "\n",
    "for ix in range(10):\n",
    "    dt = DTC()\n",
    "    \n",
    "    start = datetime.datetime.now()\n",
    "    dt.fit(x_train, y_train)\n",
    "    end = datetime.datetime.now()\n",
    "\n",
    "    start = datetime.datetime.now()\n",
    "    score = dt.score(x_test, y_test)\n",
    "    end = datetime.datetime.now()\n",
    "\n",
    "    print(\"Accurcy : \", score*100)\n",
    "    acc.append(score*100)\n",
    "    tem = dt.feature_importances_\n",
    "    ans.append(tem)"
   ]
  },
  {
   "cell_type": "code",
   "execution_count": 6,
   "metadata": {},
   "outputs": [
    {
     "name": "stdout",
     "output_type": "stream",
     "text": [
      "Features most indicative of a poisonous mushroom wrt Decision Tree Model :  spore-print-color\n"
     ]
    },
    {
     "data": {
      "image/png": "[encoded data removed]",
      "text/plain": [
       "<matplotlib.figure.Figure at 0x11f9f1e80>"
      ]
     },
     "metadata": {},
     "output_type": "display_data"
    }
   ],
   "source": [
    "temp = [] \n",
    "for ix in range(0, len(ans)):\n",
    "    temp.append(np.argmax(ans[ix]))\n",
    "    \n",
    "mode = max(set(temp), key=temp.count) #find mode for features importance in decision trees\n",
    "print(\"Features most indicative of a poisonous mushroom wrt Decision Tree Model : \", headers[mode+1])\n",
    "\n",
    "plt.figure(0)\n",
    "plt.suptitle('Decision Tree Plot', fontsize=10)\n",
    "plt.plot(acc, '-o')\n",
    "plt.ylabel('Accuracy', fontsize=16)\n",
    "plt.show()"
   ]
  },
  {
   "cell_type": "markdown",
   "metadata": {},
   "source": [
    "<h3> Random Forest Implementation </h3>"
   ]
  },
  {
   "cell_type": "code",
   "execution_count": 7,
   "metadata": {
    "scrolled": true
   },
   "outputs": [
    {
     "name": "stdout",
     "output_type": "stream",
     "text": [
      "Accurcy :  98.5846153846\n",
      "Accurcy :  99.4461538462\n",
      "Accurcy :  99.3846153846\n",
      "Accurcy :  98.9538461538\n",
      "Accurcy :  98.5230769231\n",
      "Accurcy :  99.3846153846\n",
      "Accurcy :  99.3230769231\n",
      "Accurcy :  98.6461538462\n",
      "Accurcy :  99.4461538462\n",
      "Accurcy :  99.5076923077\n"
     ]
    }
   ],
   "source": [
    "est = [] #taking variable estimators\n",
    "acc = []\n",
    "ans = []\n",
    "for iy in range(2, 200, 20):\n",
    "    est.append(iy)\n",
    "\n",
    "for ix in range(len(est)):\n",
    "    rf = RFC(n_estimators=est[ix], n_jobs=2)\n",
    "    #print(\"No. of Decision Trees : \", est[ix])\n",
    "    \n",
    "    start = datetime.datetime.now()\n",
    "    rf.fit(x_train, y_train)\n",
    "    end = datetime.datetime.now()\n",
    "\n",
    "    start = datetime.datetime.now()\n",
    "    score = rf.score(x_test, y_test)\n",
    "    end = datetime.datetime.now()\n",
    "\n",
    "    print(\"Accurcy : \", score*100)\n",
    "    acc.append(score*100)\n",
    "    tem = rf.feature_importances_\n",
    "    ans.append(tem)"
   ]
  },
  {
   "cell_type": "code",
   "execution_count": 8,
   "metadata": {},
   "outputs": [
    {
     "name": "stdout",
     "output_type": "stream",
     "text": [
      "Features most indicative of a poisonous mushroom wrt Random Forest Model :  odor\n"
     ]
    },
    {
     "data": {
      "image/png": "[encoded data removed]",
      "text/plain": [
       "<matplotlib.figure.Figure at 0x11fa0c5c0>"
      ]
     },
     "metadata": {},
     "output_type": "display_data"
    }
   ],
   "source": [
    "temp = []\n",
    "\n",
    "for ix in range(0, len(ans)):\n",
    "    temp.append(np.argmax(ans[ix]))\n",
    "\n",
    "mode = max(set(temp), key=temp.count) #find mode for features importance in variable estimators\n",
    "print(\"Features most indicative of a poisonous mushroom wrt Random Forest Model : \", headers[mode+1])\n",
    "\n",
    "plt.figure(1)\n",
    "plt.suptitle('Random Forest Plot', fontsize=10)\n",
    "plt.plot(est, acc, '-o')\n",
    "plt.xlabel('Estimators', fontsize=16)\n",
    "plt.ylabel('Accuracy', fontsize=16)\n",
    "plt.show()"
   ]
  },
  {
   "cell_type": "markdown",
   "metadata": {},
   "source": [
    "<h3> Logistic Regression Implementation </h3>"
   ]
  },
  {
   "cell_type": "code",
   "execution_count": 9,
   "metadata": {},
   "outputs": [
    {
     "name": "stdout",
     "output_type": "stream",
     "text": [
      "Training Time :  0:00:00.119290\n",
      "Testing Time :  0:00:00.007422\n",
      "Accurcy :  89.4153846154\n"
     ]
    }
   ],
   "source": [
    "lr = LR()\n",
    "\n",
    "start = datetime.datetime.now()\n",
    "lr.fit(x_train, y_train)\n",
    "end = datetime.datetime.now()\n",
    "\n",
    "print(\"Training Time : \", end-start)\n",
    "\n",
    "start = datetime.datetime.now()\n",
    "score = lr.score(x_test, y_test)\n",
    "end = datetime.datetime.now()\n",
    "\n",
    "print(\"Testing Time : \", end-start)\n",
    "\n",
    "print(\"Accurcy : \", score*100 )\n",
    "\n",
    "features = dt.feature_importances_"
   ]
  },
  {
   "cell_type": "code",
   "execution_count": 10,
   "metadata": {},
   "outputs": [
    {
     "name": "stdout",
     "output_type": "stream",
     "text": [
      "Features most indicative of a poisonous mushroom wrt Logistic Regression Model :  spore-print-color\n"
     ]
    }
   ],
   "source": [
    "temp = np.argmax(features)\n",
    "\n",
    "print(\"Features most indicative of a poisonous mushroom wrt Logistic Regression Model : \", headers[temp+1])"
   ]
  },
  {
   "cell_type": "markdown",
   "metadata": {},
   "source": [
    "<h3> kNN Implementation </h3>"
   ]
  },
  {
   "cell_type": "code",
   "execution_count": 11,
   "metadata": {},
   "outputs": [
    {
     "name": "stdout",
     "output_type": "stream",
     "text": [
      "Accurcy :  92.0615384615\n",
      "Accurcy :  84.4307692308\n",
      "Accurcy :  87.6923076923\n",
      "Accurcy :  89.5384615385\n",
      "Accurcy :  90.7692307692\n",
      "Accurcy :  91.8769230769\n",
      "Accurcy :  93.8461538462\n",
      "Accurcy :  94.0307692308\n",
      "Accurcy :  94.3384615385\n",
      "Accurcy :  94.2769230769\n"
     ]
    }
   ],
   "source": [
    "acc = []\n",
    "ans = []\n",
    "neighbours = []\n",
    "\n",
    "for ix in range(3, 200, 20):\n",
    "    neighbours.append(ix)\n",
    "\n",
    "for ix in range(len(neighbours)):\n",
    "    knn = KNN(n_neighbors=neighbours[ix], n_jobs=-1)\n",
    "    \n",
    "    start = datetime.datetime.now()\n",
    "    knn.fit(x_train, y_train)\n",
    "    end = datetime.datetime.now()\n",
    "\n",
    "    start = datetime.datetime.now()\n",
    "    score = knn.score(x_test, y_test)\n",
    "    end = datetime.datetime.now()\n",
    "\n",
    "    print(\"Accurcy : \", score*100)\n",
    "    acc.append(score*100)\n",
    "    temp = dt.feature_importances_\n",
    "    ans.append(temp)"
   ]
  },
  {
   "cell_type": "code",
   "execution_count": 12,
   "metadata": {},
   "outputs": [
    {
     "name": "stdout",
     "output_type": "stream",
     "text": [
      "Features most indicative of a poisonous mushroom wrt kNN :  spore-print-color\n"
     ]
    },
    {
     "data": {
      "image/png": "[encoded data removed]",
      "text/plain": [
       "<matplotlib.figure.Figure at 0x11fec71d0>"
      ]
     },
     "metadata": {},
     "output_type": "display_data"
    }
   ],
   "source": [
    "temp = []\n",
    "\n",
    "for ix in range(0, len(ans)):\n",
    "    temp.append(np.argmax(ans[ix]))\n",
    "\n",
    "mode = max(set(temp), key=temp.count) #find mode for features importance in variable estimators\n",
    "print(\"Features most indicative of a poisonous mushroom wrt kNN : \", headers[mode+1])\n",
    "\n",
    "plt.figure(2)\n",
    "plt.suptitle('k-Nearest Neighbour Plot', fontsize=10)\n",
    "plt.plot(neighbours, acc, '-o')\n",
    "plt.xlabel('Neighbours', fontsize=16)\n",
    "plt.ylabel('Accuracy', fontsize=16)\n",
    "plt.show()"
   ]
  },
  {
   "cell_type": "markdown",
   "metadata": {},
   "source": [
    "<h3> Neural Network Implementation Using Keras </h3> "
   ]
  },
  {
   "cell_type": "code",
   "execution_count": 13,
   "metadata": {},
   "outputs": [
    {
     "name": "stdout",
     "output_type": "stream",
     "text": [
      "(6499, 22) (1625, 22)\n",
      "(6499,) (1625,)\n",
      "(8124, 23)\n"
     ]
    }
   ],
   "source": [
    "y = np_utils.to_categorical(cate)\n",
    "Y_train = y[:split]\n",
    "Y_test = y[split:]\n",
    "\n",
    "print(x_train.shape, x_test.shape)\n",
    "print(y_train.shape, y_test.shape)\n",
    "print(data.shape)"
   ]
  },
  {
   "cell_type": "code",
   "execution_count": 14,
   "metadata": {},
   "outputs": [
    {
     "name": "stdout",
     "output_type": "stream",
     "text": [
      "_________________________________________________________________\n",
      "Layer (type)                 Output Shape              Param #   \n",
      "=================================================================\n",
      "dense_1 (Dense)              (None, 11)                253       \n",
      "_________________________________________________________________\n",
      "activation_1 (Activation)    (None, 11)                0         \n",
      "_________________________________________________________________\n",
      "dense_2 (Dense)              (None, 5)                 60        \n",
      "_________________________________________________________________\n",
      "activation_2 (Activation)    (None, 5)                 0         \n",
      "_________________________________________________________________\n",
      "dense_3 (Dense)              (None, 2)                 12        \n",
      "_________________________________________________________________\n",
      "activation_3 (Activation)    (None, 2)                 0         \n",
      "=================================================================\n",
      "Total params: 325\n",
      "Trainable params: 325\n",
      "Non-trainable params: 0\n",
      "_________________________________________________________________\n"
     ]
    }
   ],
   "source": [
    "model = Sequential()\n",
    "\n",
    "model.add(Dense(11, input_shape=(22,)))\n",
    "model.add(Activation('relu'))\n",
    "\n",
    "model.add(Dense(5))\n",
    "model.add(Activation('relu'))\n",
    "\n",
    "model.add(Dense(2))\n",
    "model.add(Activation('softmax'))\n",
    "\n",
    "model.summary()\n",
    "model.compile(loss='categorical_crossentropy', optimizer='adam', metrics=['accuracy'])"
   ]
  },
  {
   "cell_type": "code",
   "execution_count": 15,
   "metadata": {
    "scrolled": false
   },
   "outputs": [
    {
     "name": "stdout",
     "output_type": "stream",
     "text": [
      "Train on 6499 samples, validate on 1625 samples\n",
      "Epoch 1/70\n",
      "6499/6499 [==============================] - 0s - loss: 0.5951 - acc: 0.6836 - val_loss: 0.2705 - val_acc: 0.9311\n",
      "Epoch 2/70\n",
      "6499/6499 [==============================] - 0s - loss: 0.4715 - acc: 0.7910 - val_loss: 0.2278 - val_acc: 0.9354\n",
      "Epoch 3/70\n",
      "6499/6499 [==============================] - 0s - loss: 0.4160 - acc: 0.8192 - val_loss: 0.2237 - val_acc: 0.9409\n",
      "Epoch 4/70\n",
      "6499/6499 [==============================] - 0s - loss: 0.3649 - acc: 0.8520 - val_loss: 0.2318 - val_acc: 0.9582\n",
      "Epoch 5/70\n",
      "6499/6499 [==============================] - 0s - loss: 0.3268 - acc: 0.8746 - val_loss: 0.2244 - val_acc: 0.9520\n",
      "Epoch 6/70\n",
      "6499/6499 [==============================] - 0s - loss: 0.3008 - acc: 0.8860 - val_loss: 0.2339 - val_acc: 0.9502\n",
      "Epoch 7/70\n",
      "6499/6499 [==============================] - 0s - loss: 0.2791 - acc: 0.8928 - val_loss: 0.2469 - val_acc: 0.9342\n",
      "Epoch 8/70\n",
      "6499/6499 [==============================] - 0s - loss: 0.2548 - acc: 0.9031 - val_loss: 0.2404 - val_acc: 0.9378\n",
      "Epoch 9/70\n",
      "6499/6499 [==============================] - 0s - loss: 0.2262 - acc: 0.9152 - val_loss: 0.2886 - val_acc: 0.8862\n",
      "Epoch 10/70\n",
      "6499/6499 [==============================] - 0s - loss: 0.1998 - acc: 0.9301 - val_loss: 0.3353 - val_acc: 0.8609\n",
      "Epoch 11/70\n",
      "6499/6499 [==============================] - 0s - loss: 0.1761 - acc: 0.9415 - val_loss: 0.3296 - val_acc: 0.8566\n",
      "Epoch 12/70\n",
      "6499/6499 [==============================] - 0s - loss: 0.1577 - acc: 0.9521 - val_loss: 0.3241 - val_acc: 0.8628\n",
      "Epoch 13/70\n",
      "6499/6499 [==============================] - 0s - loss: 0.1406 - acc: 0.9614 - val_loss: 0.3251 - val_acc: 0.8585\n",
      "Epoch 14/70\n",
      "6499/6499 [==============================] - 0s - loss: 0.1283 - acc: 0.9681 - val_loss: 0.3399 - val_acc: 0.8498\n",
      "Epoch 15/70\n",
      "6499/6499 [==============================] - 0s - loss: 0.1157 - acc: 0.9714 - val_loss: 0.3171 - val_acc: 0.8677\n",
      "Epoch 16/70\n",
      "6499/6499 [==============================] - 0s - loss: 0.1045 - acc: 0.9755 - val_loss: 0.3482 - val_acc: 0.8523\n",
      "Epoch 17/70\n",
      "6499/6499 [==============================] - 0s - loss: 0.0942 - acc: 0.9775 - val_loss: 0.3374 - val_acc: 0.86220\n",
      "Epoch 18/70\n",
      "6499/6499 [==============================] - 0s - loss: 0.0856 - acc: 0.9798 - val_loss: 0.3066 - val_acc: 0.8726\n",
      "Epoch 19/70\n",
      "6499/6499 [==============================] - 0s - loss: 0.0791 - acc: 0.9794 - val_loss: 0.2981 - val_acc: 0.8843\n",
      "Epoch 20/70\n",
      "6499/6499 [==============================] - 0s - loss: 0.0743 - acc: 0.9815 - val_loss: 0.4091 - val_acc: 0.8443\n",
      "Epoch 21/70\n",
      "6499/6499 [==============================] - 0s - loss: 0.0664 - acc: 0.9834 - val_loss: 0.3455 - val_acc: 0.8665\n",
      "Epoch 22/70\n",
      "6499/6499 [==============================] - 0s - loss: 0.0627 - acc: 0.9835 - val_loss: 0.3300 - val_acc: 0.8745\n",
      "Epoch 23/70\n",
      "6499/6499 [==============================] - 0s - loss: 0.0581 - acc: 0.9855 - val_loss: 0.3508 - val_acc: 0.8702\n",
      "Epoch 24/70\n",
      "6499/6499 [==============================] - 0s - loss: 0.0539 - acc: 0.9869 - val_loss: 0.3384 - val_acc: 0.8732\n",
      "Epoch 25/70\n",
      "6499/6499 [==============================] - 0s - loss: 0.0500 - acc: 0.9869 - val_loss: 0.3725 - val_acc: 0.86030.\n",
      "Epoch 26/70\n",
      "6499/6499 [==============================] - 0s - loss: 0.0474 - acc: 0.9891 - val_loss: 0.3889 - val_acc: 0.8578\n",
      "Epoch 27/70\n",
      "6499/6499 [==============================] - 0s - loss: 0.0432 - acc: 0.9889 - val_loss: 0.3604 - val_acc: 0.8708\n",
      "Epoch 28/70\n",
      "6499/6499 [==============================] - 0s - loss: 0.0400 - acc: 0.9908 - val_loss: 0.3744 - val_acc: 0.8671\n",
      "Epoch 29/70\n",
      "6499/6499 [==============================] - 0s - loss: 0.0363 - acc: 0.9908 - val_loss: 0.4526 - val_acc: 0.8486\n",
      "Epoch 30/70\n",
      "6499/6499 [==============================] - 0s - loss: 0.0346 - acc: 0.9917 - val_loss: 0.4710 - val_acc: 0.8535\n",
      "Epoch 31/70\n",
      "6499/6499 [==============================] - 0s - loss: 0.0317 - acc: 0.9920 - val_loss: 0.4242 - val_acc: 0.8609\n",
      "Epoch 32/70\n",
      "6499/6499 [==============================] - 0s - loss: 0.0293 - acc: 0.9928 - val_loss: 0.5187 - val_acc: 0.8431\n",
      "Epoch 33/70\n",
      "6499/6499 [==============================] - 0s - loss: 0.0282 - acc: 0.9931 - val_loss: 0.4412 - val_acc: 0.8646\n",
      "Epoch 34/70\n",
      "6499/6499 [==============================] - 0s - loss: 0.0270 - acc: 0.9937 - val_loss: 0.4679 - val_acc: 0.8622\n",
      "Epoch 35/70\n",
      "6499/6499 [==============================] - ETA: 0s - loss: 0.0238 - acc: 0.994 - 0s - loss: 0.0237 - acc: 0.9946 - val_loss: 0.4808 - val_acc: 0.8640\n",
      "Epoch 36/70\n",
      "6499/6499 [==============================] - 0s - loss: 0.0225 - acc: 0.9954 - val_loss: 0.4043 - val_acc: 0.8775\n",
      "Epoch 37/70\n",
      "6499/6499 [==============================] - 0s - loss: 0.0208 - acc: 0.9949 - val_loss: 0.4149 - val_acc: 0.8757\n",
      "Epoch 38/70\n",
      "6499/6499 [==============================] - 0s - loss: 0.0194 - acc: 0.9955 - val_loss: 0.4200 - val_acc: 0.8769\n",
      "Epoch 39/70\n",
      "6499/6499 [==============================] - 0s - loss: 0.0183 - acc: 0.9958 - val_loss: 0.4141 - val_acc: 0.8782\n",
      "Epoch 40/70\n",
      "6499/6499 [==============================] - 0s - loss: 0.0168 - acc: 0.9963 - val_loss: 0.3674 - val_acc: 0.8849\n",
      "Epoch 41/70\n",
      "6499/6499 [==============================] - 0s - loss: 0.0154 - acc: 0.9966 - val_loss: 0.3202 - val_acc: 0.9022\n",
      "Epoch 42/70\n",
      "6499/6499 [==============================] - 0s - loss: 0.0151 - acc: 0.9968 - val_loss: 0.3928 - val_acc: 0.8812\n",
      "Epoch 43/70\n",
      "6499/6499 [==============================] - 0s - loss: 0.0144 - acc: 0.9968 - val_loss: 0.3406 - val_acc: 0.8997\n",
      "Epoch 44/70\n",
      "6499/6499 [==============================] - 0s - loss: 0.0135 - acc: 0.9971 - val_loss: 0.3260 - val_acc: 0.8991\n",
      "Epoch 45/70\n",
      "6499/6499 [==============================] - 0s - loss: 0.0124 - acc: 0.9975 - val_loss: 0.3168 - val_acc: 0.9015\n",
      "Epoch 46/70\n",
      "6499/6499 [==============================] - 0s - loss: 0.0118 - acc: 0.9978 - val_loss: 0.3755 - val_acc: 0.8929\n",
      "Epoch 47/70\n",
      "6499/6499 [==============================] - 0s - loss: 0.0110 - acc: 0.9983 - val_loss: 0.3214 - val_acc: 0.9052\n",
      "Epoch 48/70\n",
      "6499/6499 [==============================] - 0s - loss: 0.0104 - acc: 0.9982 - val_loss: 0.3253 - val_acc: 0.9052\n",
      "Epoch 49/70\n",
      "6499/6499 [==============================] - 0s - loss: 0.0095 - acc: 0.9988 - val_loss: 0.3428 - val_acc: 0.9022\n",
      "Epoch 50/70\n",
      "6499/6499 [==============================] - 0s - loss: 0.0098 - acc: 0.9986 - val_loss: 0.3291 - val_acc: 0.9046\n",
      "Epoch 51/70\n",
      "6499/6499 [==============================] - 0s - loss: 0.0086 - acc: 0.9988 - val_loss: 0.3086 - val_acc: 0.9151\n",
      "Epoch 52/70\n",
      "6499/6499 [==============================] - 0s - loss: 0.0083 - acc: 0.9983 - val_loss: 0.3894 - val_acc: 0.8942\n",
      "Epoch 53/70\n",
      "6499/6499 [==============================] - 0s - loss: 0.0076 - acc: 0.9989 - val_loss: 0.2716 - val_acc: 0.9255\n",
      "Epoch 54/70\n",
      "6499/6499 [==============================] - 0s - loss: 0.0075 - acc: 0.9989 - val_loss: 0.2759 - val_acc: 0.9268\n",
      "Epoch 55/70\n",
      "6499/6499 [==============================] - 0s - loss: 0.0070 - acc: 0.9992 - val_loss: 0.2564 - val_acc: 0.9348\n",
      "Epoch 56/70\n",
      "6499/6499 [==============================] - 0s - loss: 0.0071 - acc: 0.9991 - val_loss: 0.2327 - val_acc: 0.9372\n",
      "Epoch 57/70\n",
      "6499/6499 [==============================] - 0s - loss: 0.0063 - acc: 0.9991 - val_loss: 0.2624 - val_acc: 0.9329\n",
      "Epoch 58/70\n",
      "6499/6499 [==============================] - 0s - loss: 0.0062 - acc: 0.9992 - val_loss: 0.2671 - val_acc: 0.9305\n",
      "Epoch 59/70\n",
      "6499/6499 [==============================] - 0s - loss: 0.0057 - acc: 0.9994 - val_loss: 0.2219 - val_acc: 0.9378\n",
      "Epoch 60/70\n",
      "6499/6499 [==============================] - 0s - loss: 0.0053 - acc: 0.9994 - val_loss: 0.2465 - val_acc: 0.9366\n",
      "Epoch 61/70\n",
      "6499/6499 [==============================] - 0s - loss: 0.0051 - acc: 0.9994 - val_loss: 0.2509 - val_acc: 0.9360\n",
      "Epoch 62/70\n",
      "6499/6499 [==============================] - 0s - loss: 0.0050 - acc: 0.9994 - val_loss: 0.1953 - val_acc: 0.9483\n",
      "Epoch 63/70\n",
      "6499/6499 [==============================] - 0s - loss: 0.0047 - acc: 0.9995 - val_loss: 0.2028 - val_acc: 0.9489\n",
      "Epoch 64/70\n",
      "6499/6499 [==============================] - 0s - loss: 0.0043 - acc: 0.9994 - val_loss: 0.2195 - val_acc: 0.9415\n",
      "Epoch 65/70\n"
     ]
    },
    {
     "name": "stdout",
     "output_type": "stream",
     "text": [
      "6499/6499 [==============================] - 0s - loss: 0.0043 - acc: 0.9997 - val_loss: 0.2415 - val_acc: 0.9366\n",
      "Epoch 66/70\n",
      "6499/6499 [==============================] - 0s - loss: 0.0043 - acc: 0.9997 - val_loss: 0.2155 - val_acc: 0.94400.9\n",
      "Epoch 67/70\n",
      "6499/6499 [==============================] - 0s - loss: 0.0038 - acc: 0.9997 - val_loss: 0.2451 - val_acc: 0.9348\n",
      "Epoch 68/70\n",
      "6499/6499 [==============================] - 0s - loss: 0.0035 - acc: 0.9995 - val_loss: 0.2000 - val_acc: 0.94890.\n",
      "Epoch 69/70\n",
      "6499/6499 [==============================] - 0s - loss: 0.0034 - acc: 0.9997 - val_loss: 0.2133 - val_acc: 0.9465\n",
      "Epoch 70/70\n",
      "6499/6499 [==============================] - 0s - loss: 0.0032 - acc: 0.9997 - val_loss: 0.2474 - val_acc: 0.9391\n"
     ]
    }
   ],
   "source": [
    "hist = model.fit(x_train, Y_train,\n",
    "         epochs=70,\n",
    "         shuffle=True,\n",
    "         batch_size=128,\n",
    "         validation_data=(x_test, Y_test))"
   ]
  },
  {
   "cell_type": "code",
   "execution_count": 16,
   "metadata": {},
   "outputs": [
    {
     "data": {
      "image/png": "[encoded data removed]",
      "text/plain": [
       "<matplotlib.figure.Figure at 0x12017b8d0>"
      ]
     },
     "metadata": {},
     "output_type": "display_data"
    }
   ],
   "source": [
    "plt.figure(figsize=(14,3))\n",
    "plt.subplot(1, 2, 1)\n",
    "plt.suptitle('Optimizer : Adam', fontsize=10)\n",
    "plt.ylabel('Loss', fontsize=16)\n",
    "plt.plot(hist.history['loss'], 'b', label='Training Loss')\n",
    "plt.plot(hist.history['val_loss'], 'r', label='Validation Loss')\n",
    "plt.legend(loc='upper right')\n",
    "\n",
    "plt.subplot(1, 2, 2)\n",
    "plt.ylabel('Accuracy', fontsize=16)\n",
    "plt.plot(hist.history['acc'], 'b', label='Training Accuracy')\n",
    "plt.plot(hist.history['val_acc'], 'r', label='Validation Accuracy')\n",
    "plt.legend(loc='lower right')\n",
    "plt.show()"
   ]
  }
 ],
 "metadata": {
  "kernelspec": {
   "display_name": "Python 3",
   "language": "python",
   "name": "python3"
  },
  "language_info": {
   "codemirror_mode": {
    "name": "ipython",
    "version": 3
   },
   "file_extension": ".py",
   "mimetype": "text/x-python",
   "name": "python",
   "nbconvert_exporter": "python",
   "pygments_lexer": "ipython3",
   "version": "3.5.2"
  },
  "widgets": {
   "state": {},
   "version": "1.1.2"
  }
 },
 "nbformat": 4,
 "nbformat_minor": 2
}
